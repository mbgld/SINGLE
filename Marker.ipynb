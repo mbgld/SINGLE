{
 "cells": [
  {
   "cell_type": "markdown",
   "metadata": {},
   "source": [
    "## FindConservedMarkers: cnv.mk"
   ]
  },
  {
   "cell_type": "code",
   "execution_count": 1,
   "metadata": {},
   "outputs": [
    {
     "name": "stdout",
     "output_type": "stream",
     "text": [
      "Enter the cluster ID: 0\n"
     ]
    },
    {
     "ename": "KeyError",
     "evalue": "'  '",
     "output_type": "error",
     "traceback": [
      "\u001b[0;31m---------------------------------------------------------------------------\u001b[0m",
      "\u001b[0;31mKeyError\u001b[0m                                  Traceback (most recent call last)",
      "\u001b[0;32m<ipython-input-1-39fcbd65cdec>\u001b[0m in \u001b[0;36m<module>\u001b[0;34m\u001b[0m\n\u001b[1;32m      6\u001b[0m \u001b[0mcluster\u001b[0m \u001b[0;34m=\u001b[0m \u001b[0minput\u001b[0m\u001b[0;34m(\u001b[0m\u001b[0;34m'Enter the cluster ID: '\u001b[0m\u001b[0;34m)\u001b[0m\u001b[0;34m\u001b[0m\u001b[0;34m\u001b[0m\u001b[0m\n\u001b[1;32m      7\u001b[0m \u001b[0;34m\u001b[0m\u001b[0m\n\u001b[0;32m----> 8\u001b[0;31m \u001b[0mdf_A\u001b[0m \u001b[0;34m=\u001b[0m \u001b[0mpd\u001b[0m\u001b[0;34m.\u001b[0m\u001b[0mread_csv\u001b[0m\u001b[0;34m(\u001b[0m\u001b[0;34m'./Results/{  }'\u001b[0m\u001b[0;34m.\u001b[0m\u001b[0mformat\u001b[0m\u001b[0;34m(\u001b[0m\u001b[0mcluster\u001b[0m\u001b[0;34m)\u001b[0m\u001b[0;34m,\u001b[0m \u001b[0msep\u001b[0m \u001b[0;34m=\u001b[0m \u001b[0;34m'\\t'\u001b[0m\u001b[0;34m)\u001b[0m\u001b[0;34m\u001b[0m\u001b[0;34m\u001b[0m\u001b[0m\n\u001b[0m\u001b[1;32m      9\u001b[0m \u001b[0;34m\u001b[0m\u001b[0m\n\u001b[1;32m     10\u001b[0m df_A = df_A[['Case_01_NL_avg_logFC', 'Case_01_Tu_avg_logFC', 'Case_03_Tu_avg_logFC','case_05_Tu_avg_logFC', 'Case_02_Tu_avg_logFC', 'SSS_Tu_avg_logFC', 'Case_04_Tu_avg_logFC',\n",
      "\u001b[0;31mKeyError\u001b[0m: '  '"
     ]
    }
   ],
   "source": [
    "import numpy as np\n",
    "import pandas as pd\n",
    "import webbrowser\n",
    "import re\n",
    "\n",
    "cluster = input('Enter the cluster ID: ')\n",
    "\n",
    "df_A = pd.read_csv('./Results/{  }'.format(cluster), sep = '\\t')\n",
    "\n",
    "df_A = df_A[['Case_01_NL_avg_logFC', 'Case_01_Tu_avg_logFC', 'Case_03_Tu_avg_logFC','case_05_Tu_avg_logFC', 'Case_02_Tu_avg_logFC', 'SSS_Tu_avg_logFC', 'Case_04_Tu_avg_logFC',\n",
    " 'Case_03_NL_avg_logFC','case_05_NL_avg_logFC', 'Case_02_NL_avg_logFC','Case_04_NL_avg_logFC']]\n",
    "\n",
    "df_A = df_A.sort_values(by = ['Case_01_NL_avg_logFC', 'Case_01_Tu_avg_logFC'], ascending = [False, False])\n",
    "df_A"
   ]
  },
  {
   "cell_type": "markdown",
   "metadata": {},
   "source": [
    "## FindAllMarkers: all.mk"
   ]
  },
  {
   "cell_type": "code",
   "execution_count": null,
   "metadata": {},
   "outputs": [],
   "source": [
    "import numpy as np\n",
    "import pandas as pd\n",
    "import webbrowser\n",
    "\n",
    "df_B = pd.read_csv('./Results/{ }.mk', sep = '\\t')\n",
    "\n",
    "Gene = input('Enter gene name:  ')\n",
    "\n",
    "a = df_B[df_B['gene'] == Gene]\n",
    "\n",
    "\n",
    "print(a[['gene', 'cluster', 'avg_logFC', 'pct.1', 'pct.2', 'p_val']])\n",
    "\n",
    "webbrowser.open_new('https://www.genecards.org/cgi-bin/carddisp.pl?gene={}#summaries'.format(Gene))\n",
    "webbrowser.open_new('http://bio-bigdata.hrbmu.edu.cn/CellMarker/search.jsp?quickSearchInfo={}'.format(Gene))"
   ]
  },
  {
   "cell_type": "markdown",
   "metadata": {},
   "source": [
    "## FindMarkers: .mp"
   ]
  },
  {
   "cell_type": "code",
   "execution_count": null,
   "metadata": {},
   "outputs": [],
   "source": [
    "cls = input('Enter the number of cluster: ')\n",
    "\n",
    "df_C = pd.read_csv('./Results/{ }'.format(cls), sep = '\\t')\n",
    "\n",
    "df_C = df_C[['Row.names', 'avg_logFC.x', 'power', 'pct.1.x', 'pct.2.x', 'p_val', 'p_val_adj']]\n",
    "df_C = df_C[(df_C['power'] > 0.2) & (df_C['p_val_adj'] < 0.05)]\n",
    "\n",
    "\n",
    "\n",
    "df_C = df_C.sort_values(by = ['avg_logFC.x', 'power'], ascending = [False, False])\n",
    "df_C"
   ]
  }
 ],
 "metadata": {
  "kernelspec": {
   "display_name": "Python 3",
   "language": "python",
   "name": "python3"
  },
  "language_info": {
   "codemirror_mode": {
    "name": "ipython",
    "version": 3
   },
   "file_extension": ".py",
   "mimetype": "text/x-python",
   "name": "python",
   "nbconvert_exporter": "python",
   "pygments_lexer": "ipython3",
   "version": "3.7.9"
  }
 },
 "nbformat": 4,
 "nbformat_minor": 4
}
